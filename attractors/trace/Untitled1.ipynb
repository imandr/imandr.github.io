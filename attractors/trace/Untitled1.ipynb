{
 "cells": [
  {
   "cell_type": "code",
   "execution_count": 8,
   "id": "ed2de224-ef80-4a6e-89f7-aa2aaf0d3150",
   "metadata": {},
   "outputs": [],
   "source": [
    "B0 = 363957.12\n",
    "Rate = 0.0325/12\n",
    "Extra = 0\n",
    "PI = 3384.95\n",
    "Payment = PI + Extra\n",
    "N = 19"
   ]
  },
  {
   "cell_type": "code",
   "execution_count": 9,
   "id": "a4ba4f75-9d4a-4739-ac92-1eac0ca3126f",
   "metadata": {},
   "outputs": [],
   "source": [
    "def iterate(balance, payment, rate):\n",
    "    return balance * (1+rate) - payment"
   ]
  },
  {
   "cell_type": "code",
   "execution_count": 10,
   "id": "ad4cda69-eabe-4c86-9087-15e56978adeb",
   "metadata": {},
   "outputs": [
    {
     "name": "stdout",
     "output_type": "stream",
     "text": [
      "317243.3128737968\n"
     ]
    }
   ],
   "source": [
    "balance = B0\n",
    "for t in range(N):\n",
    "    balance = iterate(balance, Payment, Rate)\n",
    "print(balance)"
   ]
  },
  {
   "cell_type": "code",
   "execution_count": 5,
   "id": "91a9d6cc-9dda-47ee-96cf-47777e13ac37",
   "metadata": {},
   "outputs": [
    {
     "data": {
      "text/plain": [
       "256"
      ]
     },
     "execution_count": 5,
     "metadata": {},
     "output_type": "execute_result"
    }
   ],
   "source": [
    "remaining = 21*12+4\n",
    "remaining"
   ]
  },
  {
   "cell_type": "code",
   "execution_count": 6,
   "id": "3ff2586e-78cf-4bcd-a9e2-76f8a7bb197b",
   "metadata": {},
   "outputs": [],
   "source": [
    "for t in range(256):\n",
    "    balance=iterate(balance, 2024, 0.004375)"
   ]
  },
  {
   "cell_type": "code",
   "execution_count": 7,
   "id": "b04e50ac-d760-4ef6-8980-53152b368bac",
   "metadata": {},
   "outputs": [
    {
     "data": {
      "text/plain": [
       "272.7113861476778"
      ]
     },
     "execution_count": 7,
     "metadata": {},
     "output_type": "execute_result"
    }
   ],
   "source": [
    "balance"
   ]
  },
  {
   "cell_type": "code",
   "execution_count": null,
   "id": "32baabe5-41ca-4125-ad58-103c50ceb780",
   "metadata": {},
   "outputs": [],
   "source": []
  }
 ],
 "metadata": {
  "kernelspec": {
   "display_name": "Python 3 (ipykernel)",
   "language": "python",
   "name": "python3"
  },
  "language_info": {
   "codemirror_mode": {
    "name": "ipython",
    "version": 3
   },
   "file_extension": ".py",
   "mimetype": "text/x-python",
   "name": "python",
   "nbconvert_exporter": "python",
   "pygments_lexer": "ipython3",
   "version": "3.9.5"
  }
 },
 "nbformat": 4,
 "nbformat_minor": 5
}
